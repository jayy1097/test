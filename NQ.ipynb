{
 "cells": [
  {
   "cell_type": "code",
   "execution_count": 173,
   "id": "f2106ab3",
   "metadata": {},
   "outputs": [],
   "source": [
    "def is_safe(board,row,col):\n",
    "    for i in range(col):\n",
    "        if board[row][i] == 'Q':\n",
    "            return False\n",
    "    i,j=row,col\n",
    "    while i>=0 and j>=0:\n",
    "        if board[i][j] == 'Q':\n",
    "            return False\n",
    "        i-=1\n",
    "        j-=1\n",
    "        \n",
    "    i,j=row,col\n",
    "    while i<0 and j>=0:\n",
    "        if board[i][j] == 'Q':\n",
    "            return False\n",
    "        i+=1\n",
    "        j-=1\n",
    "    return True\n",
    "        "
   ]
  },
  {
   "cell_type": "code",
   "execution_count": 174,
   "id": "0bded74f",
   "metadata": {},
   "outputs": [],
   "source": [
    "def NQueen(board,col):\n",
    "    if col>=N:\n",
    "        return True\n",
    "    for i in range(N):\n",
    "        if is_safe(board,i,col):\n",
    "            board[i][col] = 'Q'\n",
    "            \n",
    "            if NQueen(board,col+1):\n",
    "                return True\n",
    "            board[i][col] = '.'\n",
    "    return False"
   ]
  },
  {
   "cell_type": "code",
   "execution_count": 175,
   "id": "f1f86475",
   "metadata": {},
   "outputs": [
    {
     "name": "stdout",
     "output_type": "stream",
     "text": [
      "ENTER number of QUEENS : 4\n",
      "ENTER row number : 2\n",
      ". . Q .\n",
      "Q . . .\n",
      ". . . Q\n",
      ". Q . .\n"
     ]
    }
   ],
   "source": [
    "N = int(input(\"ENTER number of QUEENS : \"))\n",
    "I = int(input(\"ENTER row number : \"))\n",
    "board = [['.']*N for _ in range(N)]\n",
    "board[I-1][0]='Q'\n",
    "if NQueen(board,1):\n",
    "    for row in board:\n",
    "        print(' '.join(row))\n",
    "else:\n",
    "    print(\"NO SOLUTION POSSIBLE\")"
   ]
  },
  {
   "cell_type": "code",
   "execution_count": null,
   "id": "83c1b936",
   "metadata": {},
   "outputs": [],
   "source": []
  },
  {
   "cell_type": "code",
   "execution_count": null,
   "id": "8d2d56a7",
   "metadata": {},
   "outputs": [],
   "source": []
  },
  {
   "cell_type": "code",
   "execution_count": null,
   "id": "4003f23b",
   "metadata": {},
   "outputs": [],
   "source": []
  },
  {
   "cell_type": "code",
   "execution_count": null,
   "id": "1d679198",
   "metadata": {},
   "outputs": [],
   "source": []
  }
 ],
 "metadata": {
  "kernelspec": {
   "display_name": "Python 3 (ipykernel)",
   "language": "python",
   "name": "python3"
  },
  "language_info": {
   "codemirror_mode": {
    "name": "ipython",
    "version": 3
   },
   "file_extension": ".py",
   "mimetype": "text/x-python",
   "name": "python",
   "nbconvert_exporter": "python",
   "pygments_lexer": "ipython3",
   "version": "3.10.9"
  }
 },
 "nbformat": 4,
 "nbformat_minor": 5
}
